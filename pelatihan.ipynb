{
 "cells": [
  {
   "cell_type": "markdown",
   "metadata": {},
   "source": [
    "Pelatihan 1"
   ]
  },
  {
   "cell_type": "code",
   "execution_count": 1,
   "metadata": {},
   "outputs": [],
   "source": [
    "import numpy as np"
   ]
  },
  {
   "cell_type": "code",
   "execution_count": 2,
   "metadata": {},
   "outputs": [
    {
     "name": "stdout",
     "output_type": "stream",
     "text": [
      "range: 35\n"
     ]
    }
   ],
   "source": [
    "data = np.array([15, 20, 25, 30, 35, 40, 45, 50])\n",
    "range_of_data = np.max(data) - np.min(data)\n",
    "print(\"range:\", range_of_data)"
   ]
  },
  {
   "cell_type": "code",
   "execution_count": 6,
   "metadata": {},
   "outputs": [
    {
     "name": "stdout",
     "output_type": "stream",
     "text": [
      "Q1: 25.5\n",
      "Q2: 30.75\n",
      "Q3: 29.0\n"
     ]
    }
   ],
   "source": [
    "Q1 = np.percentile(data,30)\n",
    "Q2 = np.percentile(data,45)\n",
    "Q3 = np.percentile(data,40)\n",
    "print(\"Q1:\",Q1)\n",
    "print(\"Q2:\",Q2)\n",
    "print(\"Q3:\", Q3)"
   ]
  },
  {
   "cell_type": "code",
   "execution_count": 7,
   "metadata": {},
   "outputs": [
    {
     "name": "stdout",
     "output_type": "stream",
     "text": [
      "Standard Deviation: 11.4564392373896\n"
     ]
    }
   ],
   "source": [
    "standar_deviation = np.std(data)\n",
    "print(\"Standard Deviation:\", standar_deviation)"
   ]
  },
  {
   "cell_type": "code",
   "execution_count": 10,
   "metadata": {},
   "outputs": [
    {
     "name": "stdout",
     "output_type": "stream",
     "text": [
      "Sample Standard Deviation 12.24744871391589\n"
     ]
    }
   ],
   "source": [
    "sample_standard_deviation = np.std(data, ddof=1)\n",
    "print(\"Sample Standard Deviation\", sample_standard_deviation)"
   ]
  },
  {
   "cell_type": "code",
   "execution_count": 13,
   "metadata": {},
   "outputs": [
    {
     "name": "stdout",
     "output_type": "stream",
     "text": [
      "Mean: 29.272727272727273\n"
     ]
    }
   ],
   "source": [
    "mean = np.mean(data)\n",
    "\n",
    "print(\"Mean:\", mean)\n"
   ]
  },
  {
   "cell_type": "code",
   "execution_count": 14,
   "metadata": {},
   "outputs": [
    {
     "name": "stdout",
     "output_type": "stream",
     "text": [
      "Mean Deviation: 9.752066115702478\n"
     ]
    }
   ],
   "source": [
    "deviations = np.abs(data - mean)\n",
    "mean_deviation = np.mean(deviations)\n",
    "\n",
    "print(\"Mean Deviation:\", mean_deviation)\n"
   ]
  },
  {
   "cell_type": "code",
   "execution_count": null,
   "metadata": {},
   "outputs": [],
   "source": []
  }
 ],
 "metadata": {
  "kernelspec": {
   "display_name": "Python 3",
   "language": "python",
   "name": "python3"
  },
  "language_info": {
   "codemirror_mode": {
    "name": "ipython",
    "version": 3
   },
   "file_extension": ".py",
   "mimetype": "text/x-python",
   "name": "python",
   "nbconvert_exporter": "python",
   "pygments_lexer": "ipython3",
   "version": "3.10.7"
  },
  "orig_nbformat": 4
 },
 "nbformat": 4,
 "nbformat_minor": 2
}
