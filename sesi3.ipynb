{
 "cells": [
  {
   "cell_type": "markdown",
   "metadata": {},
   "source": [
    "Sesi3"
   ]
  },
  {
   "cell_type": "code",
   "execution_count": 1,
   "metadata": {},
   "outputs": [
    {
     "name": "stdout",
     "output_type": "stream",
     "text": [
      "Return the sum of a 'start' value (default: 0) plus an iterable of numbers\n",
      "\n",
      "When the iterable is empty, return the start value.\n",
      "This function is intended specifically for use with numeric values and may\n",
      "reject non-numeric types.\n"
     ]
    }
   ],
   "source": [
    "print(sum.__doc__)"
   ]
  },
  {
   "cell_type": "markdown",
   "metadata": {},
   "source": [
    "Defining Function"
   ]
  },
  {
   "cell_type": "code",
   "execution_count": 2,
   "metadata": {},
   "outputs": [],
   "source": [
    "def my_function(p, l):\n",
    "    '''\n",
    "    Funtion untuk menghitung luas\n",
    "    '''\n",
    "    print(p*l)"
   ]
  },
  {
   "cell_type": "code",
   "execution_count": 3,
   "metadata": {},
   "outputs": [
    {
     "name": "stdout",
     "output_type": "stream",
     "text": [
      "8\n"
     ]
    }
   ],
   "source": [
    "my_function(4,2)"
   ]
  },
  {
   "cell_type": "code",
   "execution_count": 4,
   "metadata": {},
   "outputs": [],
   "source": [
    "def printme(str):\n",
    "    '''\n",
    "    This print a passed string into this function\n",
    "    '''\n",
    "    print(str)\n",
    "    return"
   ]
  },
  {
   "cell_type": "markdown",
   "metadata": {},
   "source": [
    "Calling a Function"
   ]
  },
  {
   "cell_type": "code",
   "execution_count": 5,
   "metadata": {},
   "outputs": [
    {
     "name": "stdout",
     "output_type": "stream",
     "text": [
      "doodleedoo\n"
     ]
    }
   ],
   "source": [
    "printme('doodleedoo')"
   ]
  },
  {
   "cell_type": "markdown",
   "metadata": {},
   "source": [
    "Pass by reference vs value"
   ]
  },
  {
   "cell_type": "code",
   "execution_count": 6,
   "metadata": {},
   "outputs": [],
   "source": [
    "def changeMe(mylist):\n",
    "    '''\n",
    "    This changes a passed list into this function\n",
    "    '''\n",
    "    mylist.append([1, 2, 3, 4])\n",
    "    print('values inside the function: ', mylist)\n",
    "    return"
   ]
  },
  {
   "cell_type": "code",
   "execution_count": 7,
   "metadata": {},
   "outputs": [
    {
     "name": "stdout",
     "output_type": "stream",
     "text": [
      "values inside the function:  [10, 20, 30, [1, 2, 3, 4]]\n",
      "values inside the function:  [10, 20, 30, [1, 2, 3, 4]]\n"
     ]
    }
   ],
   "source": [
    "mylist = [10, 20, 30]\n",
    "changeMe(mylist)\n",
    "print('values inside the function: ', mylist)"
   ]
  },
  {
   "cell_type": "code",
   "execution_count": 9,
   "metadata": {},
   "outputs": [],
   "source": [
    "   def change_me(mylist):\n",
    "    '''\n",
    "    This changes a passed list into this function\n",
    "    '''\n",
    "    mylist = [1, 2, 3, 4]\n",
    "    print('values inside the function: ', mylist)\n",
    "    return"
   ]
  },
  {
   "cell_type": "code",
   "execution_count": 10,
   "metadata": {},
   "outputs": [
    {
     "name": "stdout",
     "output_type": "stream",
     "text": [
      "values inside the function:  [1, 2, 3, 4]\n",
      "values inside the function:  [10, 20, 30]\n"
     ]
    }
   ],
   "source": [
    "mylist = [10, 20, 30]\n",
    "change_me(mylist)\n",
    "print('values inside the function: ', mylist)"
   ]
  },
  {
   "cell_type": "markdown",
   "metadata": {},
   "source": [
    "Function Arguments"
   ]
  },
  {
   "cell_type": "code",
   "execution_count": 11,
   "metadata": {},
   "outputs": [],
   "source": [
    "# Required Arguments\n",
    "def printme(str):\n",
    "    '''\n",
    "    This print a passed string into this function\n",
    "    '''\n",
    "    print(str)\n",
    "    return"
   ]
  },
  {
   "cell_type": "code",
   "execution_count": 12,
   "metadata": {},
   "outputs": [],
   "source": [
    "# Keyword Arguments\n",
    "def printInfo(name, age):\n",
    "    '''\n",
    "    This Print Name and Age\n",
    "    '''\n",
    "    print('Name :', name)\n",
    "    print('Age :', age)\n",
    "    return"
   ]
  },
  {
   "cell_type": "code",
   "execution_count": 13,
   "metadata": {},
   "outputs": [
    {
     "name": "stdout",
     "output_type": "stream",
     "text": [
      "Name : Hacktiv8\n",
      "Age : 4\n"
     ]
    }
   ],
   "source": [
    "printInfo(age=4, name='Hacktiv8')"
   ]
  },
  {
   "cell_type": "code",
   "execution_count": 14,
   "metadata": {},
   "outputs": [],
   "source": [
    "# Default Arguments\n",
    "def printInfo(name, age=30):\n",
    "    '''\n",
    "    This Print Name and Age\n",
    "    '''\n",
    "    print('Name :', name)\n",
    "    print('Age :', age)\n",
    "    return"
   ]
  },
  {
   "cell_type": "code",
   "execution_count": 15,
   "metadata": {},
   "outputs": [
    {
     "name": "stdout",
     "output_type": "stream",
     "text": [
      "Name : Hacktiv8\n",
      "Age : 12\n",
      "Name : Fulan\n",
      "Age : 30\n"
     ]
    }
   ],
   "source": [
    "printInfo('Hacktiv8', 12)\n",
    "printInfo('Fulan')"
   ]
  },
  {
   "cell_type": "code",
   "execution_count": 16,
   "metadata": {},
   "outputs": [],
   "source": [
    "def print_info(arg1, *vartuple):\n",
    "    '''\n",
    "    this prints a variable passed arguments\n",
    "    '''\n",
    "    print('Output is :')\n",
    "    # print(arg1)\n",
    "    for val in vartuple:\n",
    "        print(val)\n",
    "    return"
   ]
  },
  {
   "cell_type": "code",
   "execution_count": 17,
   "metadata": {},
   "outputs": [
    {
     "name": "stdout",
     "output_type": "stream",
     "text": [
      "Output is :\n"
     ]
    }
   ],
   "source": [
    "print_info(10)"
   ]
  },
  {
   "cell_type": "code",
   "execution_count": 18,
   "metadata": {},
   "outputs": [
    {
     "name": "stdout",
     "output_type": "stream",
     "text": [
      "Output is :\n",
      "3.2\n",
      "a\n",
      "True\n"
     ]
    }
   ],
   "source": [
    "print_info(70, 3.2, 'a', True)"
   ]
  },
  {
   "cell_type": "code",
   "execution_count": null,
   "metadata": {},
   "outputs": [],
   "source": []
  }
 ],
 "metadata": {
  "kernelspec": {
   "display_name": "Python 3",
   "language": "python",
   "name": "python3"
  },
  "language_info": {
   "codemirror_mode": {
    "name": "ipython",
    "version": 3
   },
   "file_extension": ".py",
   "mimetype": "text/x-python",
   "name": "python",
   "nbconvert_exporter": "python",
   "pygments_lexer": "ipython3",
   "version": "3.10.7"
  },
  "orig_nbformat": 4
 },
 "nbformat": 4,
 "nbformat_minor": 2
}
