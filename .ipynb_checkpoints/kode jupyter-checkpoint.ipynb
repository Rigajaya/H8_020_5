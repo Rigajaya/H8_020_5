{
 "cells": [
  {
   "cell_type": "markdown",
   "id": "8ac339b6",
   "metadata": {},
   "source": [
    "# kode jupyter"
   ]
  },
  {
   "cell_type": "code",
   "execution_count": 9,
   "id": "32f59842",
   "metadata": {},
   "outputs": [
    {
     "name": "stdout",
     "output_type": "stream",
     "text": [
      "hello word\n"
     ]
    }
   ],
   "source": [
    "print(\"hello word\")"
   ]
  },
  {
   "cell_type": "code",
   "execution_count": 16,
   "id": "59cfabf9",
   "metadata": {},
   "outputs": [
    {
     "name": "stdout",
     "output_type": "stream",
     "text": [
      "1\n",
      "2\n",
      "3\n",
      "4\n",
      "5\n",
      "6\n",
      "7\n",
      "8\n",
      "9\n",
      "10\n"
     ]
    }
   ],
   "source": [
    "i = 1\n",
    "while(i <= 10):\n",
    "    print(i)\n",
    "    i = i + 1"
   ]
  },
  {
   "cell_type": "markdown",
   "id": "4fde9386",
   "metadata": {},
   "source": [
    "# kode syntax"
   ]
  },
  {
   "cell_type": "markdown",
   "id": "bcd5d82a",
   "metadata": {},
   "source": [
    "## using library"
   ]
  },
  {
   "cell_type": "code",
   "execution_count": null,
   "id": "e1618abe",
   "metadata": {},
   "outputs": [],
   "source": [
    "!pip3 install pandas \n",
    "import pandas as pd\n",
    "import numpy as np"
   ]
  }
 ],
 "metadata": {
  "kernelspec": {
   "display_name": "Python 3 (ipykernel)",
   "language": "python",
   "name": "python3"
  },
  "language_info": {
   "codemirror_mode": {
    "name": "ipython",
    "version": 3
   },
   "file_extension": ".py",
   "mimetype": "text/x-python",
   "name": "python",
   "nbconvert_exporter": "python",
   "pygments_lexer": "ipython3",
   "version": "3.10.7"
  }
 },
 "nbformat": 4,
 "nbformat_minor": 5
}
