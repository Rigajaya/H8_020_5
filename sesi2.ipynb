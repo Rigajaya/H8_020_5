{
 "cells": [
  {
   "cell_type": "markdown",
   "metadata": {},
   "source": [
    "Sesi 2"
   ]
  },
  {
   "cell_type": "code",
   "execution_count": 2,
   "metadata": {},
   "outputs": [
    {
     "name": "stdout",
     "output_type": "stream",
     "text": [
      "0\n",
      "1\n",
      "2\n",
      "3\n",
      "4\n",
      "5\n"
     ]
    }
   ],
   "source": [
    "for n in range(6):\n",
    "    print(n)"
   ]
  },
  {
   "cell_type": "code",
   "execution_count": 6,
   "metadata": {},
   "outputs": [
    {
     "name": "stdout",
     "output_type": "stream",
     "text": [
      "Temperaturnya adalah 14 derajat\n"
     ]
    }
   ],
   "source": [
    "temp = input(\"Ketikan temperatur yang ingin dikonversikan, eg. 45F, 120C: \")\n",
    "degree = int(temp[:-1])\n",
    "satuan = temp[-1]. upper()\n",
    "if satuan == 'C':\n",
    "    result = int(round((9 * degree) / 5 + 32))\n",
    "elif satuan == 'F':\n",
    "    result = int(round((degree - 32) + 5 / 9))\n",
    "else:\n",
    "    print(\"Masukan input yang benar\")\n",
    "\n",
    "print(\"Temperaturnya adalah\", result, \"derajat\")\n"
   ]
  },
  {
   "cell_type": "code",
   "execution_count": 11,
   "metadata": {},
   "outputs": [
    {
     "name": "stdout",
     "output_type": "stream",
     "text": [
      "Requirement already satisfied: numpy in c:\\users\\asus win10\\appdata\\local\\programs\\python\\python310\\lib\\site-packages (1.25.2)Note: you may need to restart the kernel to use updated packages.\n",
      "\n"
     ]
    },
    {
     "name": "stderr",
     "output_type": "stream",
     "text": [
      "WARNING: Ignoring invalid distribution -ip (c:\\users\\asus win10\\appdata\\local\\programs\\python\\python310\\lib\\site-packages)\n",
      "ERROR: Could not find a version that satisfies the requirement as (from versions: none)\n",
      "ERROR: No matching distribution found for as\n"
     ]
    }
   ],
   "source": [
    "pip install numpy as np"
   ]
  },
  {
   "cell_type": "code",
   "execution_count": 12,
   "metadata": {},
   "outputs": [
    {
     "name": "stdout",
     "output_type": "stream",
     "text": [
      "mmodule not found\n"
     ]
    }
   ],
   "source": [
    "try:\n",
    "    import baz\n",
    "except ImportError:\n",
    "    print('mmodule not found')"
   ]
  },
  {
   "cell_type": "code",
   "execution_count": 13,
   "metadata": {},
   "outputs": [
    {
     "name": "stdout",
     "output_type": "stream",
     "text": [
      "not found error\n"
     ]
    }
   ],
   "source": [
    "try:\n",
    "    from mad import baz\n",
    "except ImportError:\n",
    "    print('not found error')"
   ]
  },
  {
   "cell_type": "code",
   "execution_count": 1,
   "metadata": {},
   "outputs": [
    {
     "name": "stdout",
     "output_type": "stream",
     "text": [
      "============== Program Konversi Suhu ==============\n",
      "Temperaturnya adalah 7 derajat Celcius\n",
      "\n",
      "\n",
      "============== Program Konversi Suhu ==============\n",
      "Temperaturnya adalah 248 derajat Fahrenheit\n",
      "TERIMA KASIH\n"
     ]
    }
   ],
   "source": [
    "while True:\n",
    "    print('============== Program Konversi Suhu ==============')\n",
    "    temp = input('Ketikan Temperatur yang ingin dikonversi, eg. 45F, 120C: ')\n",
    "    if len(temp) > 1:    \n",
    "        degree = int(temp[:-1])\n",
    "        satuan = temp[-1].upper()\n",
    "    else :\n",
    "        print('Invalid Input')\n",
    "        print('Masukan input yang benar')\n",
    "        continue\n",
    "\n",
    "    if satuan == 'C':\n",
    "        result = int(round((9 * degree/ 5) + 32))\n",
    "        unit = 'Fahrenheit'\n",
    "    elif satuan == 'F':\n",
    "        result = int(round((degree - 32) * 5/ 9))\n",
    "        unit = 'Celcius'\n",
    "    else :\n",
    "        print('Invalid Input')\n",
    "        print('Masukan input yang benar')\n",
    "        continue\n",
    "\n",
    "    print('Temperaturnya adalah', result, 'derajat', unit)\n",
    "\n",
    "    conf = input('Coba lagi (y/n)? ').lower()\n",
    "    if conf == 'n':\n",
    "        print('TERIMA KASIH')\n",
    "        break\n",
    "    else :\n",
    "        print('\\n')\n",
    "        pass"
   ]
  },
  {
   "cell_type": "code",
   "execution_count": 5,
   "metadata": {},
   "outputs": [
    {
     "name": "stdout",
     "output_type": "stream",
     "text": [
      "yes\n"
     ]
    }
   ],
   "source": [
    "x = 0\n",
    "y = 5\n",
    "\n",
    "if x < y:\n",
    "    print('yes')"
   ]
  },
  {
   "cell_type": "code",
   "execution_count": 8,
   "metadata": {},
   "outputs": [
    {
     "name": "stdout",
     "output_type": "stream",
     "text": [
      "yes\n"
     ]
    }
   ],
   "source": [
    "if y:\n",
    "    print('yes')"
   ]
  },
  {
   "cell_type": "code",
   "execution_count": 9,
   "metadata": {},
   "outputs": [],
   "source": [
    "y = -3\n",
    "\n",
    "if x:\n",
    "    print('yes')\n",
    "    print('ok')"
   ]
  },
  {
   "cell_type": "code",
   "execution_count": 11,
   "metadata": {},
   "outputs": [
    {
     "name": "stdout",
     "output_type": "stream",
     "text": [
      "Expression was True\n",
      "Executing statement in suite\n",
      "...\n",
      "Done\n",
      "After Conditional\n"
     ]
    }
   ],
   "source": [
    "if 'foo' in ['bar', 'baz', 'qux', 'foo']:\n",
    "    print('Expression was True')\n",
    "    print('Executing statement in suite')\n",
    "    print('...')\n",
    "    print('Done')\n",
    "    \n",
    "print('After Conditional')"
   ]
  },
  {
   "cell_type": "code",
   "execution_count": 12,
   "metadata": {},
   "outputs": [
    {
     "name": "stdout",
     "output_type": "stream",
     "text": [
      "Outer condition is True\n",
      "Inner Condition 2\n",
      "End of Outer Condition\n",
      "After Conditional\n"
     ]
    }
   ],
   "source": [
    "if 'foo' in ['bar', 'baz', 'foo']:\n",
    "    print('Outer condition is True')\n",
    "    \n",
    "    if 10 > 20:\n",
    "        print('Inner Condition 1')\n",
    "    \n",
    "    if 10 < 20:\n",
    "        print('Inner Condition 2')\n",
    "    \n",
    "    print('End of Outer Condition')\n",
    "    \n",
    "print('After Conditional')"
   ]
  },
  {
   "cell_type": "markdown",
   "metadata": {},
   "source": [
    "The Else Elif Clause"
   ]
  },
  {
   "cell_type": "code",
   "execution_count": 13,
   "metadata": {},
   "outputs": [
    {
     "name": "stdout",
     "output_type": "stream",
     "text": [
      "(second suite)\n",
      "x is large\n"
     ]
    }
   ],
   "source": [
    "x = 60\n",
    "\n",
    "if x < 50: print('(first suite)'); print('x is small')\n",
    "else :\n",
    "    print('(second suite)')\n",
    "    print('x is large')"
   ]
  },
  {
   "cell_type": "code",
   "execution_count": 17,
   "metadata": {},
   "outputs": [
    {
     "name": "stdout",
     "output_type": "stream",
     "text": [
      "beli Majalah\n"
     ]
    }
   ],
   "source": [
    "hargaBuku = 20000\n",
    "hargaMajalah = 5000\n",
    "uang = 20000\n",
    "\n",
    "if uang > hargaMajalah:\n",
    "    print('beli Majalah')\n",
    "else :\n",
    "    print('uang tidak cukup')"
   ]
  },
  {
   "cell_type": "code",
   "execution_count": 18,
   "metadata": {},
   "outputs": [
    {
     "name": "stdout",
     "output_type": "stream",
     "text": [
      "Hello Hacktiv8\n"
     ]
    }
   ],
   "source": [
    "name = 'Hacktiv8'\n",
    "\n",
    "if name=='Fred':\n",
    "    print('Hello Fred!')\n",
    "elif name=='Xander':\n",
    "    print('Hello Xander')\n",
    "elif name=='Hacktiv8':\n",
    "    print('Hello Hacktiv8')\n",
    "elif name=='Arnorld':\n",
    "    print('Hello Arnold')\n",
    "else :\n",
    "    print(\"I don't know who you are!\")"
   ]
  },
  {
   "cell_type": "markdown",
   "metadata": {},
   "source": [
    "One Line If Statment"
   ]
  },
  {
   "cell_type": "code",
   "execution_count": 19,
   "metadata": {},
   "outputs": [
    {
     "name": "stdout",
     "output_type": "stream",
     "text": [
      "qux\n",
      "quux\n"
     ]
    }
   ],
   "source": [
    "x = 2\n",
    "\n",
    "if x==1 : print('foo'); print('bar'); print('baz')\n",
    "elif x==2 : print('qux'); print('quux')\n",
    "else : print('corge'); print('grault')"
   ]
  }
 ],
 "metadata": {
  "kernelspec": {
   "display_name": "Python 3",
   "language": "python",
   "name": "python3"
  },
  "language_info": {
   "codemirror_mode": {
    "name": "ipython",
    "version": 3
   },
   "file_extension": ".py",
   "mimetype": "text/x-python",
   "name": "python",
   "nbconvert_exporter": "python",
   "pygments_lexer": "ipython3",
   "version": "3.10.7"
  },
  "orig_nbformat": 4
 },
 "nbformat": 4,
 "nbformat_minor": 2
}
